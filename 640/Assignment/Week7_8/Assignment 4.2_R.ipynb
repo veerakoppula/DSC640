{
 "cells": [
  {
   "cell_type": "markdown",
   "metadata": {},
   "source": [
    "You need to submit 3 scatterplots, 3 bubble charts and 3 density plot charts using Tableau or PowerBI, Python and R using the data below (or your own datasets). You can also submit using D3. You can choose which library to use in Python or R, documentation is provided to help you decide and as you start to play around in the libraries, you will decide which you prefer."
   ]
  },
  {
   "cell_type": "code",
   "execution_count": 38,
   "metadata": {},
   "outputs": [
    {
     "data": {
      "text/html": [
       "<table>\n",
       "<thead><tr><th scope=col>state</th><th scope=col>murder</th><th scope=col>forcible_rape</th><th scope=col>robbery</th><th scope=col>aggravated_assault</th><th scope=col>burglary</th><th scope=col>larceny_theft</th><th scope=col>motor_vehicle_theft</th><th scope=col>population</th><th scope=col>total_crime</th><th scope=col>state_cont</th><th scope=col>name_caps</th><th scope=col>abbr</th><th scope=col>midwest</th></tr></thead>\n",
       "<tbody>\n",
       "\t<tr><td>Alabama   </td><td>8.2       </td><td>34.3      </td><td>141.4     </td><td>247.8     </td><td> 953.8    </td><td>2650.0    </td><td>288.3     </td><td> 4545049  </td><td>4323.8    </td><td>1         </td><td>ALABAMA   </td><td>AL        </td><td>0         </td></tr>\n",
       "\t<tr><td>Alaska    </td><td>4.8       </td><td>81.1      </td><td> 80.9     </td><td>465.1     </td><td> 622.5    </td><td>2599.1    </td><td>391.0     </td><td>  669488  </td><td>4244.5    </td><td>2         </td><td>ALASKA    </td><td>AK        </td><td>0         </td></tr>\n",
       "\t<tr><td>Arizona   </td><td>7.5       </td><td>33.8      </td><td>144.4     </td><td>327.4     </td><td> 948.4    </td><td>2965.2    </td><td>924.4     </td><td> 5974834  </td><td>5351.1    </td><td>3         </td><td>ARIZONA   </td><td>AZ        </td><td>0         </td></tr>\n",
       "\t<tr><td>Arkansas  </td><td>6.7       </td><td>42.9      </td><td> 91.1     </td><td>386.8     </td><td>1084.6    </td><td>2711.2    </td><td>262.1     </td><td> 2776221  </td><td>4585.4    </td><td>4         </td><td>ARKANSAS  </td><td>AR        </td><td>0         </td></tr>\n",
       "\t<tr><td>California</td><td>6.9       </td><td>26.0      </td><td>176.1     </td><td>317.3     </td><td> 693.3    </td><td>1916.5    </td><td>712.8     </td><td>35795255  </td><td>3848.9    </td><td>5         </td><td>CALIFORNIA</td><td>CA        </td><td>0         </td></tr>\n",
       "\t<tr><td>Colorado  </td><td>3.7       </td><td>43.4      </td><td> 84.6     </td><td>264.7     </td><td> 744.8    </td><td>2735.2    </td><td>559.5     </td><td> 4660780  </td><td>4435.9    </td><td>6         </td><td>COLORADO  </td><td>CO        </td><td>0         </td></tr>\n",
       "</tbody>\n",
       "</table>\n"
      ],
      "text/latex": [
       "\\begin{tabular}{r|llllllllllllll}\n",
       " state & murder & forcible\\_rape & robbery & aggravated\\_assault & burglary & larceny\\_theft & motor\\_vehicle\\_theft & population & total\\_crime & state\\_cont & name\\_caps & abbr & midwest\\\\\n",
       "\\hline\n",
       "\t Alabama    & 8.2        & 34.3       & 141.4      & 247.8      &  953.8     & 2650.0     & 288.3      &  4545049   & 4323.8     & 1          & ALABAMA    & AL         & 0         \\\\\n",
       "\t Alaska     & 4.8        & 81.1       &  80.9      & 465.1      &  622.5     & 2599.1     & 391.0      &   669488   & 4244.5     & 2          & ALASKA     & AK         & 0         \\\\\n",
       "\t Arizona    & 7.5        & 33.8       & 144.4      & 327.4      &  948.4     & 2965.2     & 924.4      &  5974834   & 5351.1     & 3          & ARIZONA    & AZ         & 0         \\\\\n",
       "\t Arkansas   & 6.7        & 42.9       &  91.1      & 386.8      & 1084.6     & 2711.2     & 262.1      &  2776221   & 4585.4     & 4          & ARKANSAS   & AR         & 0         \\\\\n",
       "\t California & 6.9        & 26.0       & 176.1      & 317.3      &  693.3     & 1916.5     & 712.8      & 35795255   & 3848.9     & 5          & CALIFORNIA & CA         & 0         \\\\\n",
       "\t Colorado   & 3.7        & 43.4       &  84.6      & 264.7      &  744.8     & 2735.2     & 559.5      &  4660780   & 4435.9     & 6          & COLORADO   & CO         & 0         \\\\\n",
       "\\end{tabular}\n"
      ],
      "text/markdown": [
       "\n",
       "| state | murder | forcible_rape | robbery | aggravated_assault | burglary | larceny_theft | motor_vehicle_theft | population | total_crime | state_cont | name_caps | abbr | midwest |\n",
       "|---|---|---|---|---|---|---|---|---|---|---|---|---|---|\n",
       "| Alabama    | 8.2        | 34.3       | 141.4      | 247.8      |  953.8     | 2650.0     | 288.3      |  4545049   | 4323.8     | 1          | ALABAMA    | AL         | 0          |\n",
       "| Alaska     | 4.8        | 81.1       |  80.9      | 465.1      |  622.5     | 2599.1     | 391.0      |   669488   | 4244.5     | 2          | ALASKA     | AK         | 0          |\n",
       "| Arizona    | 7.5        | 33.8       | 144.4      | 327.4      |  948.4     | 2965.2     | 924.4      |  5974834   | 5351.1     | 3          | ARIZONA    | AZ         | 0          |\n",
       "| Arkansas   | 6.7        | 42.9       |  91.1      | 386.8      | 1084.6     | 2711.2     | 262.1      |  2776221   | 4585.4     | 4          | ARKANSAS   | AR         | 0          |\n",
       "| California | 6.9        | 26.0       | 176.1      | 317.3      |  693.3     | 1916.5     | 712.8      | 35795255   | 3848.9     | 5          | CALIFORNIA | CA         | 0          |\n",
       "| Colorado   | 3.7        | 43.4       |  84.6      | 264.7      |  744.8     | 2735.2     | 559.5      |  4660780   | 4435.9     | 6          | COLORADO   | CO         | 0          |\n",
       "\n"
      ],
      "text/plain": [
       "  state      murder forcible_rape robbery aggravated_assault burglary\n",
       "1 Alabama    8.2    34.3          141.4   247.8               953.8  \n",
       "2 Alaska     4.8    81.1           80.9   465.1               622.5  \n",
       "3 Arizona    7.5    33.8          144.4   327.4               948.4  \n",
       "4 Arkansas   6.7    42.9           91.1   386.8              1084.6  \n",
       "5 California 6.9    26.0          176.1   317.3               693.3  \n",
       "6 Colorado   3.7    43.4           84.6   264.7               744.8  \n",
       "  larceny_theft motor_vehicle_theft population total_crime state_cont\n",
       "1 2650.0        288.3                4545049   4323.8      1         \n",
       "2 2599.1        391.0                 669488   4244.5      2         \n",
       "3 2965.2        924.4                5974834   5351.1      3         \n",
       "4 2711.2        262.1                2776221   4585.4      4         \n",
       "5 1916.5        712.8               35795255   3848.9      5         \n",
       "6 2735.2        559.5                4660780   4435.9      6         \n",
       "  name_caps  abbr midwest\n",
       "1 ALABAMA    AL   0      \n",
       "2 ALASKA     AK   0      \n",
       "3 ARIZONA    AZ   0      \n",
       "4 ARKANSAS   AR   0      \n",
       "5 CALIFORNIA CA   0      \n",
       "6 COLORADO   CO   0      "
      ]
     },
     "metadata": {},
     "output_type": "display_data"
    },
    {
     "data": {
      "text/html": [
       "<table>\n",
       "<thead><tr><th scope=col>country</th><th scope=col>year</th><th scope=col>expectancy</th></tr></thead>\n",
       "<tbody>\n",
       "\t<tr><td>Afghanistan        </td><td>2008               </td><td>42                 </td></tr>\n",
       "\t<tr><td>Albania            </td><td>2008               </td><td>73                 </td></tr>\n",
       "\t<tr><td>Algeria            </td><td>2008               </td><td>71                 </td></tr>\n",
       "\t<tr><td>Angola             </td><td>2008               </td><td>46                 </td></tr>\n",
       "\t<tr><td>Antigua and Barbuda</td><td>2008               </td><td>74                 </td></tr>\n",
       "\t<tr><td>Argentina          </td><td>2008               </td><td>76                 </td></tr>\n",
       "</tbody>\n",
       "</table>\n"
      ],
      "text/latex": [
       "\\begin{tabular}{r|lll}\n",
       " country & year & expectancy\\\\\n",
       "\\hline\n",
       "\t Afghanistan         & 2008                & 42                 \\\\\n",
       "\t Albania             & 2008                & 73                 \\\\\n",
       "\t Algeria             & 2008                & 71                 \\\\\n",
       "\t Angola              & 2008                & 46                 \\\\\n",
       "\t Antigua and Barbuda & 2008                & 74                 \\\\\n",
       "\t Argentina           & 2008                & 76                 \\\\\n",
       "\\end{tabular}\n"
      ],
      "text/markdown": [
       "\n",
       "| country | year | expectancy |\n",
       "|---|---|---|\n",
       "| Afghanistan         | 2008                | 42                  |\n",
       "| Albania             | 2008                | 73                  |\n",
       "| Algeria             | 2008                | 71                  |\n",
       "| Angola              | 2008                | 46                  |\n",
       "| Antigua and Barbuda | 2008                | 74                  |\n",
       "| Argentina           | 2008                | 76                  |\n",
       "\n"
      ],
      "text/plain": [
       "  country             year expectancy\n",
       "1 Afghanistan         2008 42        \n",
       "2 Albania             2008 73        \n",
       "3 Algeria             2008 71        \n",
       "4 Angola              2008 46        \n",
       "5 Antigua and Barbuda 2008 74        \n",
       "6 Argentina           2008 76        "
      ]
     },
     "metadata": {},
     "output_type": "display_data"
    }
   ],
   "source": [
    "library('magrittr')\n",
    " \n",
    "# Set data paths\n",
    "dirdata <- 'ex4-2/'\n",
    "file1 <- 'crimerates-by-state-2005.csv'\n",
    "file2 <- 'life-expectancy.csv'\n",
    "file3 <- 'states_detail.xlsx'\n",
    " \n",
    "\n",
    "# Load crime rate data\n",
    "# Creating additional variable state_cont to convert the unique state variable from categorical to continuous\n",
    "crimerate <- read.csv2(paste(dirdata,file1,sep=''), header=TRUE, sep=',', fill=TRUE, stringsAsFactors=FALSE) %>% \n",
    "  dplyr::mutate(murder = as.numeric(murder),\n",
    "                forcible_rape = as.numeric(forcible_rape),\n",
    "                robbery = as.numeric(robbery),\n",
    "                aggravated_assault = as.numeric(aggravated_assault),\n",
    "                burglary = as.numeric(burglary),\n",
    "                larceny_theft = as.numeric(larceny_theft),\n",
    "                motor_vehicle_theft = as.numeric(motor_vehicle_theft),\n",
    "                population = as.integer(population),\n",
    "                total_crime = murder+\n",
    "                  forcible_rape+\n",
    "                  robbery+\n",
    "                  aggravated_assault+\n",
    "                  burglary+\n",
    "                  larceny_theft+\n",
    "                  motor_vehicle_theft,\n",
    "                state_cont = rank(state, ties.method = 'first'))\n",
    "\n",
    "# For the additional data, I used US State to region mapping\n",
    "# I marked the mid west states and rest of USA in the region column in the states_detail.xlsx file\n",
    "# The file is uploaded in the same github repository\n",
    "state_detail <- xlsx::read.xlsx2(paste(dirdata,file3,sep=''),sheetIndex = 1, stringsAsFactors = FALSE)\n",
    "\n",
    "# Remove USA as a state and add region\n",
    "crimerate_states <- crimerate %>% \n",
    "  dplyr::left_join(state_detail, by='state') %>% \n",
    "  dplyr::filter(state !='United States') %>%\n",
    "  dplyr::mutate(midwest = as.integer(midwest))\n",
    "\n",
    "# Replace NA\n",
    "crimerate_states[is.na(crimerate_states)] <- 0\n",
    "\n",
    "# Load life expectancy data\n",
    "lifeexp <- read.csv2(paste(dirdata,file2,sep=''), header=TRUE, sep=',', fill=TRUE, stringsAsFactors=FALSE)\n",
    "\n",
    "head(crimerate_states)\n",
    "head(lifeexp)"
   ]
  },
  {
   "cell_type": "markdown",
   "metadata": {},
   "source": [
    "### Plot 1: Create scatter plot"
   ]
  },
  {
   "cell_type": "code",
   "execution_count": 32,
   "metadata": {},
   "outputs": [
    {
     "data": {
      "image/png": "[encoded data removed]",
      "text/plain": [
       "plot without title"
      ]
     },
     "metadata": {},
     "output_type": "display_data"
    }
   ],
   "source": [
    "# Format graph size\n",
    "options(repr.plot.width = 5, repr.plot.height = 5)\n",
    "\n",
    "# Plot\n",
    "ggplot2::ggplot(data = crimerate_states) +\n",
    "  ggplot2::aes(x = murder, y = robbery) +\n",
    "  ggplot2::geom_point(color = \"#0c4c8a\") +\n",
    "  ggplot2::labs(title = \"Correlation between Robbery and Murder\",\n",
    "       x = \"Murder\",\n",
    "       y = \"Robbery\") +\n",
    "  ggplot2::theme_grey()"
   ]
  },
  {
   "cell_type": "markdown",
   "metadata": {},
   "source": [
    "### Plot 2: Create bubble plot"
   ]
  },
  {
   "cell_type": "code",
   "execution_count": 44,
   "metadata": {},
   "outputs": [
    {
     "data": {
      "image/png": "[encoded data removed]",
      "text/plain": [
       "plot without title"
      ]
     },
     "metadata": {},
     "output_type": "display_data"
    }
   ],
   "source": [
    "# Format graph size\n",
    "options(repr.plot.width = 7, repr.plot.height = 3)\n",
    "\n",
    "# Plot\n",
    "ggplot2::ggplot(data = crimerate) +\n",
    "  ggplot2::aes(x = murder, y = robbery, color = total_crime, size = population) +\n",
    "  ggplot2::geom_point() +\n",
    "  ggplot2::labs(title = \"Relationship between Murder, Robbery, Total Crime and Population\") +\n",
    "  ggplot2::theme_classic()"
   ]
  },
  {
   "cell_type": "markdown",
   "metadata": {},
   "source": [
    "### Plot 3: Create density plot"
   ]
  },
  {
   "cell_type": "code",
   "execution_count": 46,
   "metadata": {},
   "outputs": [
    {
     "data": {
      "image/png": "[encoded data removed]",
      "text/plain": [
       "plot without title"
      ]
     },
     "metadata": {},
     "output_type": "display_data"
    }
   ],
   "source": [
    "# For this I want to compare total crime rate of mid west states to the rest of the states\n",
    "crimerate_compare <- crimerate_states[,-1]\n",
    "rownames(crimerate_compare) <- crimerate_states[,1]\n",
    "\n",
    "ggplot2::ggplot(crimerate_compare) +\n",
    "  ggplot2::aes(total_crime, fill=as.factor(crimerate_compare$midwest)) +\n",
    "  ggplot2::geom_density(alpha = 0.3) +\n",
    "  ggplot2::labs(x='Total Crime', y='Density') +\n",
    "  ggplot2::theme_classic() +\n",
    "  ggplot2::guides(fill=ggplot2::guide_legend(title=\"Mid West flag\"))"
   ]
  },
  {
   "cell_type": "markdown",
   "metadata": {},
   "source": [
    "**End of Code**"
   ]
  }
 ],
 "metadata": {
  "kernelspec": {
   "display_name": "R",
   "language": "R",
   "name": "ir"
  },
  "language_info": {
   "codemirror_mode": "r",
   "file_extension": ".r",
   "mimetype": "text/x-r-source",
   "name": "R",
   "pygments_lexer": "r",
   "version": "3.5.1"
  }
 },
 "nbformat": 4,
 "nbformat_minor": 2
}
